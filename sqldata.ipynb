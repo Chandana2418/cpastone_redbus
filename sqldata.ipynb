import pymysql

# Establish MySQL connection
myconnection = pymysql.connect(
    host='127.0.0.1',    # Localhost or your MySQL server IP
    user='root',         # Your MySQL username
    passwd='123456789',  # Your MySQL password
)

cursor = myconnection.cursor()

# Create the database if it doesn't exist
cursor.execute("CREATE DATABASE IF NOT EXISTS redbus")

# Switch to the newly created database
cursor.execute("USE redbus")

print("Database 'redbus' created and selected.")


# Commit the transaction
myconnection.commit()

# Close the cursor and connection
cursor.close()
myconnection.close()


import pandas as pd
import pymysql

# Load CSV files into pandas DataFrames
csv_files = [
    "ap_bus_details.csv", "assam_bus_details.csv", "chandigarh_bus_details.csv", 
    "himachal_bus_details.csv", "kaac_bus_details.csv", "kerala_bus_details.csv",
    "rajasthan_bus_details.csv", "sb_bus_details.csv", "Telangana_bus_details.csv"
]

# Read each CSV file into a DataFrame and store it in a list
df_list = [pd.read_csv(file) for file in csv_files]

# Concatenate all DataFrames in the list into one DataFrame
combined_df = pd.concat(df_list, ignore_index=True)

# Clean and prepare data
columns_to_include = [
    "Route_Name", "Route_Link", "Bus_Name", "Bus_Type", 
    "Departing_Time", "Duration", "Reaching_Time", 
    "Star_Rating", "Price", "Seat_Availability"
]

# Check for missing columns
missing_columns = [col for col in columns_to_include if col not in combined_df.columns]
if missing_columns:
    raise ValueError(f"Missing columns in CSV data: {', '.join(missing_columns)}")

# Filter the DataFrame to include only the specified columns
combined_df = combined_df[columns_to_include]

# Add an ID column
combined_df['id'] = range(1, len(combined_df) + 1)

# Clean the 'Price' column
combined_df['Price'] = combined_df['Price'].str.replace('INR ', '', regex=False)

# Extract digits from 'Seat_Availability'
combined_df['Seat_Availability'] = combined_df['Seat_Availability'].str.extract('(\d+)')

# Convert to numeric types
combined_df['Price'] = pd.to_numeric(combined_df['Price'], errors='coerce')
combined_df['Seat_Availability'] = pd.to_numeric(combined_df['Seat_Availability'], errors='coerce')

# Remove rows with null values
combined_df = combined_df.dropna()

# Connect to MySQL Database
myconnection = pymysql.connect(
    host='127.0.0.1',
    user='root',
    passwd='123456789',
    database='redbus'  # Specify the database name
)

cursor = myconnection.cursor()

# Create table if it doesn't exist
table_name = "bus_routes"
column_types = ", ".join(f"{col} {dtype}"
                        for col, dtype in zip(combined_df.columns, combined_df.dtypes)
                        ).replace("float64", "FLOAT").replace("object", "TEXT").replace("int64", "INT")

create_table_query = f"""
CREATE TABLE IF NOT EXISTS {table_name} (
    {column_types}
);
"""
cursor.execute(create_table_query)

# Insert data into MySQL table using parameterized queries
for i in range(len(combined_df)):
    # Convert the row to a tuple of values
    row_values = tuple(
        str(combined_df.iloc[i][col]) if not pd.isna(combined_df.iloc[i][col]) else None
        for col in combined_df.columns
    )

    # Create the insert query with placeholders
    insert_query = f"INSERT INTO {table_name} ({', '.join(combined_df.columns)}) VALUES ({', '.join(['%s'] * len(row_values))})"
    
    # Print the query and the values for debugging
    print(f"Insert Query: {insert_query}")
    print(f"Row Values: {row_values}")

    # Execute the insert query with parameters
    cursor.execute(insert_query, row_values)

# Commit the transaction
myconnection.commit()

# Close the cursor and connection
cursor.close()
myconnection.close()

print("Data inserted successfully into the 'bus_routes' table.")


#output
Database 'redbus' created and selected.
Insert Query: INSERT INTO bus_routes (Route_Name, Route_Link, Bus_Name, Bus_Type, Departing_Time, Duration, Reaching_Time, Star_Rating, Price, Seat_Availability, id) VALUES (%s, %s, %s, %s, %s, %s, %s, %s, %s, %s, %s)
Row Values: ('Udaipur to Jodhpur', 'https://www.redbus.in/bus-tickets/udaipur-to-jodhpur', 'RSRTC - 190115', 'Express Non AC Seater 2+3', '12:00', '07h 30m', '19:30', '4.2', '294.0', '37.0', '1')
Insert Query: INSERT INTO bus_routes (Route_Name, Route_Link, Bus_Name, Bus_Type, Departing_Time, Duration, Reaching_Time, Star_Rating, Price, Seat_Availability, id) VALUES (%s, %s, %s, %s, %s, %s, %s, %s, %s, %s, %s)
Row Values: ('Udaipur to Jodhpur', 'https://www.redbus.in/bus-tickets/udaipur-to-jodhpur', 'RSRTC - 169076', 'Express Non AC Seater 2+3', '12:10', '11h 50m', '00:00', '4.2', '299.0', '42.0', '2')
Insert Query: INSERT INTO bus_routes (Route_Name, Route_Link, Bus_Name, Bus_Type, Departing_Time, Duration, Reaching_Time, Star_Rating, Price, Seat_Availability, id) VALUES (%s, %s, %s, %s, %s, %s, %s, %s, %s, %s, %s)
Row Values: ('Udaipur to Jodhpur', 'https://www.redbus.in/bus-tickets/udaipur-to-jodhpur', 'RSRTC - 184043', 'Express Non AC Seater 2+3', '12:45', '06h 15m', '19:00', '4.2', '299.0', '42.0', '3')
Insert Query: INSERT INTO bus_routes (Route_Name, Route_Link, Bus_Name, Bus_Type, Departing_Time, Duration, Reaching_Time, Star_Rating, Price, Seat_Availability, id) VALUES (%s, %s, %s, %s, %s, %s, %s, %s, %s, %s, %s)
Row Values: ('Udaipur to Jodhpur', 'https://www.redbus.in/bus-tickets/udaipur-to-jodhpur', 'RSRTC - 183203', 'Express Non AC Seater 2+3', '13:30', '06h 00m', '19:30', '4.2', '299.0', '42.0', '4')
Insert Query: INSERT INTO bus_routes (Route_Name, Route_Link, Bus_Name, Bus_Type, Departing_Time, Duration, Reaching_Time, Star_Rating, Price, Seat_Availability, id) VALUES (%s, %s, %s, %s, %s, %s, %s, %s, %s, %s, %s)
Row Values: ('Udaipur to Jodhpur', 'https://www.redbus.in/bus-tickets/udaipur-to-jodhpur', 'RSRTC - 183141', 'Express Non AC Seater 2+3', '14:35', '06h 25m', '21:00', '1.2', '294.0', '41.0', '5')
Insert Query: INSERT INTO bus_routes (Route_Name, Route_Link, Bus_Name, Bus_Type, Departing_Time, Duration, Reaching_Time, Star_Rating, Price, Seat_Availability, id) VALUES (%s, %s, %s, %s, %s, %s, %s, %s, %s, %s, %s)
Row Values: ('Udaipur to Jodhpur', 'https://www.redbus.in/bus-tickets/udaipur-to-jodhpur', 'Shree Devnarayan Travels', 'Bharat Benz A/C Seater (2+1)', '17:00', '04h 30m', '21:30', '4.5', '550.0', '19.0', '6')
Insert Query: INSERT INTO bus_routes (Route_Name, Route_Link, Bus_Name, Bus_Type, Departing_Time, Duration, Reaching_Time, Star_Rating, Price, Seat_Availability, id) VALUES (%s, %s, %s, %s, %s, %s, %s, %s, %s, %s, %s)
Row Values: ('Udaipur to Jodhpur', 'https://www.redbus.in/bus-tickets/udaipur-to-jodhpur', 'M R Travels', 'Volvo Multi-Axle I-Shift B11R Semi Sleeper (2+2)', '17:10', '04h 45m', '21:55', '4.4', '600.0', '41.0', '7')
Insert Query: INSERT INTO bus_routes (Route_Name, Route_Link, Bus_Name, Bus_Type, Departing_Time, Duration, Reaching_Time, Star_Rating, Price, Seat_Availability, id) VALUES (%s, %s, %s, %s, %s, %s, %s, %s, %s, %s, %s)
Row Values: ('Udaipur to Jodhpur', 'https://www.redbus.in/bus-tickets/udaipur-to-jodhpur', 'Shree Devnarayan Travels', 'Bharat Benz A/C Seater (2+1)', '12:50', '04h 30m', '17:20', '4.0', '550.0', '11.0', '8')
Insert Query: INSERT INTO bus_routes (Route_Name, Route_Link, Bus_Name, Bus_Type, Departing_Time, Duration, Reaching_Time, Star_Rating, Price, Seat_Availability, id) VALUES (%s, %s, %s, %s, %s, %s, %s, %s, %s, %s, %s)
Row Values: ('Udaipur to Jodhpur', 'https://www.redbus.in/bus-tickets/udaipur-to-jodhpur', 'Jakhar Travels', 'A/C Seater / Sleeper (2+1)', '22:00', '06h 30m', '04:30', '3.9', '457.0', '33.0', '9')
Insert Query: INSERT INTO bus_routes (Route_Name, Route_Link, Bus_Name, Bus_Type, Departing_Time, Duration, Reaching_Time, Star_Rating, Price, Seat_Availability, id) VALUES (%s, %s, %s, %s, %s, %s, %s, %s, %s, %s, %s)
Row Values: ('Udaipur to Jodhpur', 'https://www.redbus.in/bus-tickets/udaipur-to-jodhpur', 'Raj Travel', 'A/C Sleeper (2+1)', '22:30', '07h 00m', '05:30', '4.4', '560.0', '28.0', '10')
Insert Query: INSERT INTO bus_routes (Route_Name, Route_Link, Bus_Name, Bus_Type, Departing_Time, Duration, Reaching_Time, Star_Rating, Price, Seat_Availability, id) VALUES (%s, %s, %s, %s, %s, %s, %s, %s, %s, %s, %s)
Row Values: ('Jodhpur to Ajmer', 'https://www.redbus.in/bus-tickets/jodhpur-to-ajmer', 'RSRTC - 177048', 'Semi Deluxe Non AC Seater 2+2', '10:45', '05h 05m', '15:50', '3.8', '250.0', '34.0', '11')
Insert Query: INSERT INTO bus_routes (Route_Name, Route_Link, Bus_Name, Bus_Type, Departing_Time, Duration, Reaching_Time, Star_Rating, Price, Seat_Availability, id) VALUES (%s, %s, %s, %s, %s, %s, %s, %s, %s, %s, %s)
Row Values: ('Jodhpur to Ajmer', 'https://www.redbus.in/bus-tickets/jodhpur-to-ajmer', 'RSRTC - 182944', 'Express Non AC Seater 2+3', '11:15', '04h 35m', '15:50', '3.8', '229.0', '42.0', '12')
Insert Query: INSERT INTO bus_routes (Route_Name, Route_Link, Bus_Name, Bus_Type, Departing_Time, Duration, Reaching_Time, Star_Rating, Price, Seat_Availability, id) VALUES (%s, %s, %s, %s, %s, %s, %s, %s, %s, %s, %s)
...
Row Values: ('Hyderabad to Addanki', 'https://www.redbus.in/bus-tickets/hyderabad-to-addanki', 'APSRTC - 5922', 'SUPER LUXURY (NON-AC, 2 + 2 PUSH BACK)', '19:45', '08h 30m', '04:15', '3.8', '462.0', '32.0', '2061')
Insert Query: INSERT INTO bus_routes (Route_Name, Route_Link, Bus_Name, Bus_Type, Departing_Time, Duration, Reaching_Time, Star_Rating, Price, Seat_Availability, id) VALUES (%s, %s, %s, %s, %s, %s, %s, %s, %s, %s, %s)
Row Values: ('Hyderabad to Addanki', 'https://www.redbus.in/bus-tickets/hyderabad-to-addanki', 'APSRTC - 5906', 'INDRA(A.C. Seater)', '20:00', '07h 50m', '03:50', '3.8', '559.0', '38.0', '2062')
Data inserted successfully into the 'bus_routes' table.
Output is truncated. View as a scrollable element or open in a text editor. Adjust cell output settings...
